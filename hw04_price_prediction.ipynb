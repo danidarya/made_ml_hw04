{
 "cells": [
  {
   "cell_type": "code",
   "execution_count": 1,
   "metadata": {},
   "outputs": [],
   "source": [
    "import pandas as pd\n",
    "import numpy as np\n",
    "from sklearn.model_selection import train_test_split\n",
    "import lightgbm\n",
    "from IPython.display import display,clear_output \n",
    "from ipywidgets import Button,RadioButtons,Text,FloatText,Dropdown,IntSlider,Output,Layout,HBox,VBox,Layout,BoundedFloatText\n",
    "import plotly.graph_objects as go"
   ]
  },
  {
   "cell_type": "code",
   "execution_count": 2,
   "metadata": {},
   "outputs": [],
   "source": [
    "data_train = pd.read_csv(\"data_train.csv\")\n",
    "price_train = pd.read_csv(\"price_train.csv\")\n",
    "train_with_price = pd.read_csv('train_with_price.csv')\n",
    "cols = data_train.columns\n",
    "X_train,X_test,y_train,y_test = train_test_split(data_train, price_train, test_size=0.2,shuffle=True)"
   ]
  },
  {
   "cell_type": "code",
   "execution_count": 3,
   "metadata": {},
   "outputs": [],
   "source": [
    "model = lightgbm.LGBMRegressor()\n",
    "model.fit(X_train,y_train)\n",
    "y_pred_model = model.predict(X_test)"
   ]
  },
  {
   "cell_type": "code",
   "execution_count": 4,
   "metadata": {},
   "outputs": [
    {
     "data": {
      "application/vnd.jupyter.widget-view+json": {
       "model_id": "448d85021b54404a8dac2ca68ed7f45b",
       "version_major": 2,
       "version_minor": 0
      },
      "text/plain": [
       "RadioButtons(description='Тype of apartment:', options=('Entire home/apt', 'Private room', 'Shared room'), sty…"
      ]
     },
     "metadata": {},
     "output_type": "display_data"
    },
    {
     "data": {
      "application/vnd.jupyter.widget-view+json": {
       "model_id": "7834a86e046147f7a4a2fd3bf3d68a25",
       "version_major": 2,
       "version_minor": 0
      },
      "text/plain": [
       "IntSlider(value=2, description='Number of guests', max=12, min=1, style=SliderStyle(description_width='initial…"
      ]
     },
     "metadata": {},
     "output_type": "display_data"
    },
    {
     "data": {
      "application/vnd.jupyter.widget-view+json": {
       "model_id": "240b11c0b85f4c74ad3abf38e852a11d",
       "version_major": 2,
       "version_minor": 0
      },
      "text/plain": [
       "IntSlider(value=1, description='Number of bedrooms', max=5, min=1, style=SliderStyle(description_width='initia…"
      ]
     },
     "metadata": {},
     "output_type": "display_data"
    },
    {
     "data": {
      "application/vnd.jupyter.widget-view+json": {
       "model_id": "8b8dd46b5b3741b2a53fe9d57aa8eb64",
       "version_major": 2,
       "version_minor": 0
      },
      "text/plain": [
       "IntSlider(value=1, description='Number of bathrooms', max=5, min=1, style=SliderStyle(description_width='initi…"
      ]
     },
     "metadata": {},
     "output_type": "display_data"
    },
    {
     "data": {
      "application/vnd.jupyter.widget-view+json": {
       "model_id": "341b7c021d424910a3be2eb0f71d7163",
       "version_major": 2,
       "version_minor": 0
      },
      "text/plain": [
       "Dropdown(description='Area:', options=('Richmond upon Thames', 'Camden', 'Lewisham', 'Kensington and Chelsea',…"
      ]
     },
     "metadata": {},
     "output_type": "display_data"
    },
    {
     "data": {
      "application/vnd.jupyter.widget-view+json": {
       "model_id": "7a3cd592f2e64b4daa901d80623d999c",
       "version_major": 2,
       "version_minor": 0
      },
      "text/plain": [
       "Button(button_style='success', description='Click to predict price', style=ButtonStyle())"
      ]
     },
     "metadata": {},
     "output_type": "display_data"
    },
    {
     "data": {
      "application/vnd.jupyter.widget-view+json": {
       "model_id": "921e8654533d467a8c19cf63a2b754f1",
       "version_major": 2,
       "version_minor": 0
      },
      "text/plain": [
       "BoundedFloatText(value=0.0, description='Predicted price', style=DescriptionStyle(description_width='initial')…"
      ]
     },
     "metadata": {},
     "output_type": "display_data"
    },
    {
     "data": {
      "application/vnd.jupyter.widget-view+json": {
       "model_id": "6c4c83f7f49a4c26a19cbac33e68e4cd",
       "version_major": 2,
       "version_minor": 0
      },
      "text/plain": [
       "Button(button_style='success', description='Price distribution in this area', layout=Layout(height='40px', wid…"
      ]
     },
     "metadata": {},
     "output_type": "display_data"
    },
    {
     "data": {
      "application/vnd.jupyter.widget-view+json": {
       "model_id": "8bf3a2a4cfdd426fa053d78b04bb3b7b",
       "version_major": 2,
       "version_minor": 0
      },
      "text/plain": [
       "Button(button_style='success', description='Price histogram in this area', layout=Layout(height='40px', width=…"
      ]
     },
     "metadata": {},
     "output_type": "display_data"
    }
   ],
   "source": [
    "area = Dropdown( options=['Richmond upon Thames', 'Camden', 'Lewisham', 'Kensington and Chelsea', 'Westminster',\n",
    "                          'Hammersmith and Fulham','Lambeth', 'Southwark', 'Haringey', 'Wandsworth', 'Tower Hamlets',\n",
    "                          'Hackney', 'Barnet', 'Merton', 'Islington', 'Hounslow', 'Newham','Brent', 'Barking and Dagenham', \n",
    "                          'Ealing', 'Kingston upon Thames','Sutton', 'Enfield', 'Bexley', 'Hillingdon', 'Greenwich',\n",
    "                          'Waltham Forest', 'Croydon', 'Redbridge', 'City of London','Bromley', 'Harrow', 'Havering'],\n",
    "                 value='Richmond upon Thames', \n",
    "                 description='Area:') \n",
    "\n",
    "style = {'description_width': 'initial'}\n",
    "room_type = RadioButtons(\n",
    "    options=['Entire home/apt', 'Private room', 'Shared room'],\n",
    "    value='Entire home/apt', \n",
    "    description='Тype of apartment:',\n",
    "    style = style)\n",
    "\n",
    "text = BoundedFloatText(description='Predicted price',value='0.0',style = style)\n",
    "\n",
    "bedroom_quantity = IntSlider(description='Number of bedrooms', min=1, max=5,value=1,style=style)\n",
    "bathroom_quantity = IntSlider(description='Number of bathrooms', min=1, max=5,value=1,style=style)\n",
    "guest_quantity = IntSlider(description='Number of guests', min=1, max=12,value=2,style=style)\n",
    "\n",
    "price = Button(description=\"Click to predict price\", button_style='success',style = style) \n",
    "\n",
    "def on_button_clicked_price(b): \n",
    "    clear_output()\n",
    "    cols = data_train.columns\n",
    "    data_pred = pd.DataFrame(data = np.zeros((1,len(cols))),columns=cols)\n",
    "    data_pred['bedrooms'] = bedroom_quantity.value\n",
    "    data_pred['bathrooms'] = bathroom_quantity.value\n",
    "    data_pred['accommodates'] = guest_quantity.value\n",
    "    data_pred['ng_'+area.value] = 1\n",
    "    data_pred['rt_'+room_type.value] = 1\n",
    "    text.value = round(np.expm1(model.predict(data_pred)[0]),2)\n",
    "    display(room_type,guest_quantity,bedroom_quantity,bathroom_quantity)\n",
    "    display(area,price,text)\n",
    "    display(price_distribution_current_area,hist_current_area)\n",
    "    \n",
    "price.on_click(on_button_clicked_price)\n",
    "\n",
    "\n",
    "price_distribution_current_area = Button(description=\"Price distribution in this area\", button_style='success',\n",
    "                                        layout=Layout(width='30%', height='40px')) \n",
    "def update(b):\n",
    "    clear_output()\n",
    "    df = train_with_price[(train_with_price['neighbourhood_cleansed']==area.value)&(train_with_price['price']<=500)&\n",
    "                           (train_with_price['accommodates'] == guest_quantity.value)& \n",
    "                           (train_with_price['room_type']==room_type.value)][['price','latitude','longitude']]\n",
    "\n",
    "    fig = go.Figure(data=go.Scatter( x= df['latitude'],y = df['longitude'],mode='markers',marker=dict(\n",
    "         size=16, color=df['price'], colorscale='Viridis', showscale=True)))\n",
    "        \n",
    "    fig.update_layout( title_text=\"Price distribution in selected area\",xaxis_title=\"latitude\", yaxis_title=\"longitude\")\n",
    "    display(room_type,guest_quantity,bedroom_quantity,bathroom_quantity)\n",
    "    display(area,price,text)\n",
    "    display(price_distribution_current_area,hist_current_area)\n",
    "    fig.show()\n",
    "        \n",
    "price_distribution_current_area.on_click(update)\n",
    "\n",
    "hist_current_area = Button(description=\"Price histogram in this area\", button_style='success',\n",
    "                                        layout=Layout(width='30%', height='40px')) \n",
    "\n",
    "def hist(b):\n",
    "    clear_output()\n",
    "    df = train_with_price[(train_with_price['neighbourhood_cleansed']==area.value)&\n",
    "                           (train_with_price['accommodates'] == guest_quantity.value)& \n",
    "                           (train_with_price['room_type']==room_type.value)][['price','latitude','longitude']]\n",
    "    fig = go.Figure(go.Histogram(x=df['price']))\n",
    "    fig.update_layout( title_text=\"Price histogram in selected area\",xaxis_title=\"price\", yaxis_title=\"room quantity\")\n",
    "    display(room_type,guest_quantity,bedroom_quantity,bathroom_quantity)\n",
    "    display(area,price,text)\n",
    "    display(price_distribution_current_area,hist_current_area)\n",
    "    fig.show()\n",
    "        \n",
    "hist_current_area.on_click(hist)\n",
    "display(room_type,guest_quantity,bedroom_quantity,bathroom_quantity)\n",
    "display(area,price,text)\n",
    "display(price_distribution_current_area,hist_current_area)\n"
   ]
  },
  {
   "cell_type": "code",
   "execution_count": null,
   "metadata": {},
   "outputs": [],
   "source": [
    "\n"
   ]
  },
  {
   "cell_type": "code",
   "execution_count": null,
   "metadata": {},
   "outputs": [],
   "source": []
  }
 ],
 "metadata": {
  "kernelspec": {
   "display_name": "Python 3",
   "language": "python",
   "name": "python3"
  },
  "language_info": {
   "codemirror_mode": {
    "name": "ipython",
    "version": 3
   },
   "file_extension": ".py",
   "mimetype": "text/x-python",
   "name": "python",
   "nbconvert_exporter": "python",
   "pygments_lexer": "ipython3",
   "version": "3.8.3"
  },
  "widgets": {
   "application/vnd.jupyter.widget-state+json": {
    "state": {
     "03012103348a44f2a673f5e47cbfc3bd": {
      "model_module": "@jupyter-widgets/controls",
      "model_module_version": "1.5.0",
      "model_name": "ButtonModel",
      "state": {
       "button_style": "success",
       "description": "Price distribution in this area",
       "layout": "IPY_MODEL_59cbfd5593954d4887110b2b24ac72ba",
       "style": "IPY_MODEL_4b8b1a1199f64d07b85f751fcf69e6d6"
      }
     },
     "031b7487592740feafbe059e8a27994a": {
      "model_module": "@jupyter-widgets/controls",
      "model_module_version": "1.5.0",
      "model_name": "ButtonModel",
      "state": {
       "button_style": "success",
       "description": "Price histogram in this area",
       "layout": "IPY_MODEL_62c0d9b2e9e1423d92fd58725ff7cef0",
       "style": "IPY_MODEL_f7642b7086014fac92316607f807b11e"
      }
     },
     "032a6316c4bb4eebb9477c9f18209e00": {
      "model_module": "@jupyter-widgets/controls",
      "model_module_version": "1.5.0",
      "model_name": "ButtonModel",
      "state": {
       "button_style": "success",
       "description": "Price distribution in this area",
       "layout": "IPY_MODEL_d56671d12d6747a7a7dcc6fc7136091d",
       "style": "IPY_MODEL_0cf5ef7973ff4c8f9832657d3715a99c"
      }
     },
     "041a68307f254b39925c76aa62779166": {
      "model_module": "@jupyter-widgets/controls",
      "model_module_version": "1.5.0",
      "model_name": "DropdownModel",
      "state": {
       "_options_labels": [
        "Richmond upon Thames",
        "Camden",
        "Lewisham",
        "Kensington and Chelsea",
        "Westminster",
        "Hammersmith and Fulham",
        "Lambeth",
        "Southwark",
        "Haringey",
        "Wandsworth",
        "Tower Hamlets",
        "Hackney",
        "Barnet",
        "Merton",
        "Islington",
        "Hounslow",
        "Newham",
        "Brent",
        "Barking and Dagenham",
        "Ealing",
        "Kingston upon Thames",
        "Sutton",
        "Enfield",
        "Bexley",
        "Hillingdon",
        "Greenwich",
        "Waltham Forest",
        "Croydon",
        "Redbridge",
        "City of London",
        "Bromley",
        "Harrow",
        "Havering"
       ],
       "description": "Area:",
       "index": 0,
       "layout": "IPY_MODEL_8efe83bf1633418aa59b2c026934b9a6",
       "style": "IPY_MODEL_153b1ce741454956a5752b71ffbbe877"
      }
     },
     "045007c632084627ad440d6a11ac3499": {
      "model_module": "@jupyter-widgets/controls",
      "model_module_version": "1.5.0",
      "model_name": "DescriptionStyleModel",
      "state": {
       "description_width": ""
      }
     },
     "0582246b635147508e34a618b3e7e126": {
      "model_module": "@jupyter-widgets/controls",
      "model_module_version": "1.5.0",
      "model_name": "ButtonStyleModel",
      "state": {}
     },
     "0846a046dc8142bc8d938db2c7d45321": {
      "model_module": "@jupyter-widgets/controls",
      "model_module_version": "1.5.0",
      "model_name": "BoundedFloatTextModel",
      "state": {
       "description": "Predicted price",
       "layout": "IPY_MODEL_956cc05cf233466f897f0fd95aa6c315",
       "step": null,
       "style": "IPY_MODEL_f6c43f5dbe914790828873b2370b1a54",
       "value": 60.08
      }
     },
     "08f3fa9a658444c680aa449aa91990fd": {
      "model_module": "@jupyter-widgets/base",
      "model_module_version": "1.2.0",
      "model_name": "LayoutModel",
      "state": {}
     },
     "09268a23ee9b44778a795d30a5270226": {
      "model_module": "@jupyter-widgets/base",
      "model_module_version": "1.2.0",
      "model_name": "LayoutModel",
      "state": {}
     },
     "0cf5ef7973ff4c8f9832657d3715a99c": {
      "model_module": "@jupyter-widgets/controls",
      "model_module_version": "1.5.0",
      "model_name": "ButtonStyleModel",
      "state": {}
     },
     "0e1e79f8c1c64f1183fa9810736b3eb4": {
      "model_module": "@jupyter-widgets/controls",
      "model_module_version": "1.5.0",
      "model_name": "ButtonStyleModel",
      "state": {}
     },
     "0e7600cd645b4fd889525f79d99edfa0": {
      "model_module": "@jupyter-widgets/base",
      "model_module_version": "1.2.0",
      "model_name": "LayoutModel",
      "state": {}
     },
     "100cc00f1f8540a295ff4085b20639fb": {
      "model_module": "@jupyter-widgets/controls",
      "model_module_version": "1.5.0",
      "model_name": "DescriptionStyleModel",
      "state": {
       "description_width": "initial"
      }
     },
     "12263d127d9043ac9fc0d6517002ae24": {
      "model_module": "@jupyter-widgets/controls",
      "model_module_version": "1.5.0",
      "model_name": "ButtonStyleModel",
      "state": {}
     },
     "153b1ce741454956a5752b71ffbbe877": {
      "model_module": "@jupyter-widgets/controls",
      "model_module_version": "1.5.0",
      "model_name": "DescriptionStyleModel",
      "state": {
       "description_width": ""
      }
     },
     "155dc5164c874910ae2e2ee4035f0da3": {
      "model_module": "@jupyter-widgets/controls",
      "model_module_version": "1.5.0",
      "model_name": "DescriptionStyleModel",
      "state": {
       "description_width": "initial"
      }
     },
     "1637658615c2404c80a628e073bf829f": {
      "model_module": "@jupyter-widgets/controls",
      "model_module_version": "1.5.0",
      "model_name": "DescriptionStyleModel",
      "state": {
       "description_width": "initial"
      }
     },
     "1688eea054484abfaa8a1da215a9ad17": {
      "model_module": "@jupyter-widgets/controls",
      "model_module_version": "1.5.0",
      "model_name": "ButtonStyleModel",
      "state": {}
     },
     "174cc8b03b5543609504bf71164b5413": {
      "model_module": "@jupyter-widgets/controls",
      "model_module_version": "1.5.0",
      "model_name": "DescriptionStyleModel",
      "state": {
       "description_width": "initial"
      }
     },
     "17abca2a47ca4531b05ddde76c26dd6f": {
      "model_module": "@jupyter-widgets/controls",
      "model_module_version": "1.5.0",
      "model_name": "DescriptionStyleModel",
      "state": {
       "description_width": "initial"
      }
     },
     "17b601f01d1e4428b106664324703da7": {
      "model_module": "@jupyter-widgets/controls",
      "model_module_version": "1.5.0",
      "model_name": "ButtonStyleModel",
      "state": {}
     },
     "1a689587d61f4a5d88530f5e5fbbfeb2": {
      "model_module": "@jupyter-widgets/controls",
      "model_module_version": "1.5.0",
      "model_name": "ButtonModel",
      "state": {
       "button_style": "success",
       "description": "Price distribution in this area",
       "layout": "IPY_MODEL_1f932584b46b499e85c51e7126868849",
       "style": "IPY_MODEL_f08ff7b1353749829ee46782d997e3bb"
      }
     },
     "1ab67ed970ae43d7b3e2b724adfc08c2": {
      "model_module": "@jupyter-widgets/controls",
      "model_module_version": "1.5.0",
      "model_name": "RadioButtonsModel",
      "state": {
       "_options_labels": [
        "Entire home/apt",
        "Private room",
        "Shared room"
       ],
       "description": "Тype of apartment:",
       "index": 0,
       "layout": "IPY_MODEL_b7b2407aede448ea9159b4f3487ec8e3",
       "style": "IPY_MODEL_3f2fcdfc557a4f62b11d9134fa60c1d8"
      }
     },
     "1b2cfaa1243343a6a8f2d56b7fc01249": {
      "model_module": "@jupyter-widgets/controls",
      "model_module_version": "1.5.0",
      "model_name": "IntSliderModel",
      "state": {
       "description": "Number of bathrooms",
       "layout": "IPY_MODEL_f7e312cd466f44db87a4ebf6606ce0bb",
       "max": 5,
       "min": 1,
       "style": "IPY_MODEL_a31f2bfd99aa442eb630b17b922e461f",
       "value": 1
      }
     },
     "1e4d6296e650476b8ef6b6df7e3e7c24": {
      "model_module": "@jupyter-widgets/base",
      "model_module_version": "1.2.0",
      "model_name": "LayoutModel",
      "state": {}
     },
     "1f19ea91f9f143f09b7ca47004598024": {
      "model_module": "@jupyter-widgets/controls",
      "model_module_version": "1.5.0",
      "model_name": "ButtonStyleModel",
      "state": {}
     },
     "1f3ca2063f344d3fa3b134f9241c0d52": {
      "model_module": "@jupyter-widgets/base",
      "model_module_version": "1.2.0",
      "model_name": "LayoutModel",
      "state": {}
     },
     "1f932584b46b499e85c51e7126868849": {
      "model_module": "@jupyter-widgets/base",
      "model_module_version": "1.2.0",
      "model_name": "LayoutModel",
      "state": {
       "height": "40px",
       "width": "30%"
      }
     },
     "20851330d4a04c699765e58e60042bb9": {
      "model_module": "@jupyter-widgets/controls",
      "model_module_version": "1.5.0",
      "model_name": "ButtonModel",
      "state": {
       "button_style": "success",
       "description": "Price histogram in this area",
       "layout": "IPY_MODEL_df9ac55624e643dbbaad905134988abf",
       "style": "IPY_MODEL_9de0fc80195540288d8d392709997a44"
      }
     },
     "2098eff9069c47cf84c8cb33b52efa9a": {
      "model_module": "@jupyter-widgets/controls",
      "model_module_version": "1.5.0",
      "model_name": "DropdownModel",
      "state": {
       "_options_labels": [
        "Richmond upon Thames",
        "Camden",
        "Lewisham",
        "Kensington and Chelsea",
        "Westminster",
        "Hammersmith and Fulham",
        "Lambeth",
        "Southwark",
        "Haringey",
        "Wandsworth",
        "Tower Hamlets",
        "Hackney",
        "Barnet",
        "Merton",
        "Islington",
        "Hounslow",
        "Newham",
        "Brent",
        "Barking and Dagenham",
        "Ealing",
        "Kingston upon Thames",
        "Sutton",
        "Enfield",
        "Bexley",
        "Hillingdon",
        "Greenwich",
        "Waltham Forest",
        "Croydon",
        "Redbridge",
        "City of London",
        "Bromley",
        "Harrow",
        "Havering"
       ],
       "description": "Area:",
       "index": 0,
       "layout": "IPY_MODEL_c2d52143ebed4bf9bf666ace3df2ffe6",
       "style": "IPY_MODEL_b2e0e00862aa4cd88f1e97bf2a2ec2f0"
      }
     },
     "21f8bb2ac0bd4cfa9422def016b7a240": {
      "model_module": "@jupyter-widgets/base",
      "model_module_version": "1.2.0",
      "model_name": "LayoutModel",
      "state": {
       "height": "40px",
       "width": "30%"
      }
     },
     "223220df9fa34e159a8e71f3a880259e": {
      "model_module": "@jupyter-widgets/controls",
      "model_module_version": "1.5.0",
      "model_name": "IntSliderModel",
      "state": {
       "description": "Number of bedrooms",
       "layout": "IPY_MODEL_b72ac46009ee49419c0981a5e6a5290a",
       "max": 5,
       "min": 1,
       "style": "IPY_MODEL_a8b4f56e3fab4386bcc5a0ab0c5d0d3e",
       "value": 1
      }
     },
     "22a142864b1746878752732ef6cc5388": {
      "model_module": "@jupyter-widgets/controls",
      "model_module_version": "1.5.0",
      "model_name": "IntSliderModel",
      "state": {
       "description": "Number of bedrooms",
       "layout": "IPY_MODEL_85f6501b965b4ccfa2470137ca608c94",
       "max": 5,
       "min": 1,
       "style": "IPY_MODEL_d9eb93a12fa043dc8ea94e77f4833ef9",
       "value": 1
      }
     },
     "24e18876e1ef4bd4bf0e5747be273a62": {
      "model_module": "@jupyter-widgets/controls",
      "model_module_version": "1.5.0",
      "model_name": "SliderStyleModel",
      "state": {
       "description_width": "initial"
      }
     },
     "27cc0aaf5275439ab17340991027fb8f": {
      "model_module": "@jupyter-widgets/controls",
      "model_module_version": "1.5.0",
      "model_name": "DescriptionStyleModel",
      "state": {
       "description_width": ""
      }
     },
     "27e54b435d484b5cafa09b03d379a07a": {
      "model_module": "@jupyter-widgets/controls",
      "model_module_version": "1.5.0",
      "model_name": "ButtonStyleModel",
      "state": {}
     },
     "28cde9c615964f42b9895ff36916646e": {
      "model_module": "@jupyter-widgets/controls",
      "model_module_version": "1.5.0",
      "model_name": "DescriptionStyleModel",
      "state": {
       "description_width": "initial"
      }
     },
     "29a9680124814248b11cdf3312574f45": {
      "model_module": "@jupyter-widgets/base",
      "model_module_version": "1.2.0",
      "model_name": "LayoutModel",
      "state": {}
     },
     "29e8111056aa43f38919fc35ea7aee44": {
      "model_module": "@jupyter-widgets/controls",
      "model_module_version": "1.5.0",
      "model_name": "DropdownModel",
      "state": {
       "_options_labels": [
        "Richmond upon Thames",
        "Camden",
        "Lewisham",
        "Kensington and Chelsea",
        "Westminster",
        "Hammersmith and Fulham",
        "Lambeth",
        "Southwark",
        "Haringey",
        "Wandsworth",
        "Tower Hamlets",
        "Hackney",
        "Barnet",
        "Merton",
        "Islington",
        "Hounslow",
        "Newham",
        "Brent",
        "Barking and Dagenham",
        "Ealing",
        "Kingston upon Thames",
        "Sutton",
        "Enfield",
        "Bexley",
        "Hillingdon",
        "Greenwich",
        "Waltham Forest",
        "Croydon",
        "Redbridge",
        "City of London",
        "Bromley",
        "Harrow",
        "Havering"
       ],
       "description": "Area:",
       "index": 0,
       "layout": "IPY_MODEL_3eb2be4b93d444eda9fac2a7df2bf1e9",
       "style": "IPY_MODEL_27cc0aaf5275439ab17340991027fb8f"
      }
     },
     "2a220c04751a446495bf471a250f6d7a": {
      "model_module": "@jupyter-widgets/base",
      "model_module_version": "1.2.0",
      "model_name": "LayoutModel",
      "state": {}
     },
     "2c219b8c9bf649a4b4c9a3e7f7ef4b40": {
      "model_module": "@jupyter-widgets/base",
      "model_module_version": "1.2.0",
      "model_name": "LayoutModel",
      "state": {}
     },
     "2c8eabcbf0524bc2a0358971ad99ac29": {
      "model_module": "@jupyter-widgets/base",
      "model_module_version": "1.2.0",
      "model_name": "LayoutModel",
      "state": {}
     },
     "2f2f870fc81c49cfa253787e64904758": {
      "model_module": "@jupyter-widgets/controls",
      "model_module_version": "1.5.0",
      "model_name": "ButtonModel",
      "state": {
       "button_style": "success",
       "description": "Click to predict price",
       "layout": "IPY_MODEL_2a220c04751a446495bf471a250f6d7a",
       "style": "IPY_MODEL_55187e56546446f68bdd93957b875334"
      }
     },
     "2fa010249ee849fc8940bbc30b5547ab": {
      "model_module": "@jupyter-widgets/base",
      "model_module_version": "1.2.0",
      "model_name": "LayoutModel",
      "state": {}
     },
     "305b19770b46439fb0ff8d10b13283b3": {
      "model_module": "@jupyter-widgets/base",
      "model_module_version": "1.2.0",
      "model_name": "LayoutModel",
      "state": {
       "height": "40px",
       "width": "30%"
      }
     },
     "362ac73f727a4c6ab493efb06b4254fb": {
      "model_module": "@jupyter-widgets/base",
      "model_module_version": "1.2.0",
      "model_name": "LayoutModel",
      "state": {}
     },
     "37835b8b9c6145009ecfa4f98793b5c3": {
      "model_module": "@jupyter-widgets/controls",
      "model_module_version": "1.5.0",
      "model_name": "VBoxModel",
      "state": {
       "children": [
        "IPY_MODEL_1ab67ed970ae43d7b3e2b724adfc08c2",
        "IPY_MODEL_43892460e2104f81a3c53660a75038a3",
        "IPY_MODEL_22a142864b1746878752732ef6cc5388",
        "IPY_MODEL_380a80aa0f7e47c88d36b9636795de98"
       ],
       "layout": "IPY_MODEL_3ba003e9d48e45f7abfbe086a4aba0e9"
      }
     },
     "380a80aa0f7e47c88d36b9636795de98": {
      "model_module": "@jupyter-widgets/controls",
      "model_module_version": "1.5.0",
      "model_name": "IntSliderModel",
      "state": {
       "description": "Number of bathrooms",
       "layout": "IPY_MODEL_ef3811e0e3634939a4262758f5e7a26c",
       "max": 5,
       "min": 1,
       "style": "IPY_MODEL_3e86f025a1aa40c2aba535a8df8ad64b",
       "value": 1
      }
     },
     "38a3e82cce824c27b4794f995aa0583d": {
      "model_module": "@jupyter-widgets/controls",
      "model_module_version": "1.5.0",
      "model_name": "SliderStyleModel",
      "state": {
       "description_width": "initial"
      }
     },
     "3b0c6dfb4ae94ef88ea6ea4134cc2a47": {
      "model_module": "@jupyter-widgets/controls",
      "model_module_version": "1.5.0",
      "model_name": "DescriptionStyleModel",
      "state": {
       "description_width": "initial"
      }
     },
     "3ba003e9d48e45f7abfbe086a4aba0e9": {
      "model_module": "@jupyter-widgets/base",
      "model_module_version": "1.2.0",
      "model_name": "LayoutModel",
      "state": {}
     },
     "3c0922e4a9e94a0c97a17db48451514a": {
      "model_module": "@jupyter-widgets/controls",
      "model_module_version": "1.5.0",
      "model_name": "RadioButtonsModel",
      "state": {
       "_options_labels": [
        "Entire home/apt",
        "Private room",
        "Shared room"
       ],
       "description": "Тype of apartment:",
       "index": 0,
       "layout": "IPY_MODEL_e01b766aa95c4849a4a813ec001ae0c1",
       "style": "IPY_MODEL_5e45719ef2df41edac3d57f48ebbaa68"
      }
     },
     "3ca260b311d04871a6bcca97a1e4631c": {
      "model_module": "@jupyter-widgets/controls",
      "model_module_version": "1.5.0",
      "model_name": "IntSliderModel",
      "state": {
       "description": "Number of bedrooms",
       "layout": "IPY_MODEL_fe04c19393a54b119a3006c2612624e4",
       "max": 5,
       "min": 1,
       "style": "IPY_MODEL_433f02a8d28b490c80d8f0749c07fc79",
       "value": 1
      }
     },
     "3e86f025a1aa40c2aba535a8df8ad64b": {
      "model_module": "@jupyter-widgets/controls",
      "model_module_version": "1.5.0",
      "model_name": "SliderStyleModel",
      "state": {
       "description_width": "initial"
      }
     },
     "3eb2be4b93d444eda9fac2a7df2bf1e9": {
      "model_module": "@jupyter-widgets/base",
      "model_module_version": "1.2.0",
      "model_name": "LayoutModel",
      "state": {}
     },
     "3ee2483bc9744c9c991ecc3c7eb45d49": {
      "model_module": "@jupyter-widgets/base",
      "model_module_version": "1.2.0",
      "model_name": "LayoutModel",
      "state": {}
     },
     "3f2fcdfc557a4f62b11d9134fa60c1d8": {
      "model_module": "@jupyter-widgets/controls",
      "model_module_version": "1.5.0",
      "model_name": "DescriptionStyleModel",
      "state": {
       "description_width": "initial"
      }
     },
     "4078fc48b2d84eebb7c2dbc2286065c4": {
      "model_module": "@jupyter-widgets/controls",
      "model_module_version": "1.5.0",
      "model_name": "ButtonModel",
      "state": {
       "button_style": "success",
       "description": "Click to predict price",
       "layout": "IPY_MODEL_c4ba593ecb8b47bb82f908a0e8f063a9",
       "style": "IPY_MODEL_27e54b435d484b5cafa09b03d379a07a"
      }
     },
     "42519f1f38534a089056514130aa50a8": {
      "model_module": "@jupyter-widgets/controls",
      "model_module_version": "1.5.0",
      "model_name": "BoundedFloatTextModel",
      "state": {
       "description": "Predicted price",
       "layout": "IPY_MODEL_2fa010249ee849fc8940bbc30b5547ab",
       "step": null,
       "style": "IPY_MODEL_b6707da05b8348399ffb7ceb52963885"
      }
     },
     "4262646f45c94aff96bbf15dda65c1c6": {
      "model_module": "@jupyter-widgets/controls",
      "model_module_version": "1.5.0",
      "model_name": "SliderStyleModel",
      "state": {
       "description_width": "initial"
      }
     },
     "42cbc7ad49ff437cba847a6c39e06bff": {
      "model_module": "@jupyter-widgets/controls",
      "model_module_version": "1.5.0",
      "model_name": "IntSliderModel",
      "state": {
       "description": "Number of guests",
       "layout": "IPY_MODEL_08f3fa9a658444c680aa449aa91990fd",
       "max": 12,
       "min": 1,
       "style": "IPY_MODEL_e87f7f7a457a44b0ba5a27458e9907f0",
       "value": 2
      }
     },
     "433f02a8d28b490c80d8f0749c07fc79": {
      "model_module": "@jupyter-widgets/controls",
      "model_module_version": "1.5.0",
      "model_name": "SliderStyleModel",
      "state": {
       "description_width": "initial"
      }
     },
     "43892460e2104f81a3c53660a75038a3": {
      "model_module": "@jupyter-widgets/controls",
      "model_module_version": "1.5.0",
      "model_name": "IntSliderModel",
      "state": {
       "description": "Number of guests",
       "layout": "IPY_MODEL_bb1641bf0046421aa831b6b1ac57c189",
       "max": 12,
       "min": 1,
       "style": "IPY_MODEL_7b9729f963da4bc18143a584fb4fc2f1",
       "value": 2
      }
     },
     "43cd3879e4cc48529ada7a3e4b158b3c": {
      "model_module": "@jupyter-widgets/controls",
      "model_module_version": "1.5.0",
      "model_name": "SliderStyleModel",
      "state": {
       "description_width": "initial"
      }
     },
     "4444abf5d9c64f8fbc8e89801c76c87a": {
      "model_module": "@jupyter-widgets/controls",
      "model_module_version": "1.5.0",
      "model_name": "ButtonModel",
      "state": {
       "button_style": "success",
       "description": "Click to predict price",
       "layout": "IPY_MODEL_6702c558c002477f9bd96f5fa194ce38",
       "style": "IPY_MODEL_0582246b635147508e34a618b3e7e126"
      }
     },
     "4b8b1a1199f64d07b85f751fcf69e6d6": {
      "model_module": "@jupyter-widgets/controls",
      "model_module_version": "1.5.0",
      "model_name": "ButtonStyleModel",
      "state": {}
     },
     "4b9fab51f0db4cc5b11853972a4eca9d": {
      "model_module": "@jupyter-widgets/controls",
      "model_module_version": "1.5.0",
      "model_name": "ButtonModel",
      "state": {
       "button_style": "success",
       "description": "Click to predict price",
       "layout": "IPY_MODEL_1e4d6296e650476b8ef6b6df7e3e7c24",
       "style": "IPY_MODEL_97f5d9d664914a0a82561b36adf8d44d"
      }
     },
     "4c24728349b24d75be0d2ebf1f79ca50": {
      "model_module": "@jupyter-widgets/base",
      "model_module_version": "1.2.0",
      "model_name": "LayoutModel",
      "state": {}
     },
     "5029cfb6c63c49b8b06d8cef494e41a3": {
      "model_module": "@jupyter-widgets/controls",
      "model_module_version": "1.5.0",
      "model_name": "SliderStyleModel",
      "state": {
       "description_width": "initial"
      }
     },
     "509c283eb7cd4addb430f264d9c16a59": {
      "model_module": "@jupyter-widgets/controls",
      "model_module_version": "1.5.0",
      "model_name": "ButtonModel",
      "state": {
       "button_style": "success",
       "description": "Price histogram in this area",
       "layout": "IPY_MODEL_5dcdb12e80c144d1985d1e213574db4f",
       "style": "IPY_MODEL_e8dfe6c6908d4c458f4d26b7bbb12e32"
      }
     },
     "50d4ab4e672942d2a8be60bc8623f0b7": {
      "model_module": "@jupyter-widgets/controls",
      "model_module_version": "1.5.0",
      "model_name": "SliderStyleModel",
      "state": {
       "description_width": "initial"
      }
     },
     "517271d890ba4a008f3b6fc290974c3a": {
      "model_module": "@jupyter-widgets/controls",
      "model_module_version": "1.5.0",
      "model_name": "ButtonStyleModel",
      "state": {}
     },
     "5269c0b8fcda44749adc669d6292d5c5": {
      "model_module": "@jupyter-widgets/controls",
      "model_module_version": "1.5.0",
      "model_name": "ButtonModel",
      "state": {
       "button_style": "success",
       "description": "Price distribution in this area",
       "layout": "IPY_MODEL_305b19770b46439fb0ff8d10b13283b3",
       "style": "IPY_MODEL_a6337792fd1645e9a0cab0a321e4dd6a"
      }
     },
     "53a5bdaab93b486f8fb6b04a887674c2": {
      "model_module": "@jupyter-widgets/controls",
      "model_module_version": "1.5.0",
      "model_name": "IntSliderModel",
      "state": {
       "description": "Number of guests",
       "layout": "IPY_MODEL_09268a23ee9b44778a795d30a5270226",
       "max": 12,
       "min": 1,
       "style": "IPY_MODEL_50d4ab4e672942d2a8be60bc8623f0b7",
       "value": 2
      }
     },
     "55187e56546446f68bdd93957b875334": {
      "model_module": "@jupyter-widgets/controls",
      "model_module_version": "1.5.0",
      "model_name": "ButtonStyleModel",
      "state": {}
     },
     "56b6f5482f1a4b10ad395bb878df1ba3": {
      "model_module": "@jupyter-widgets/controls",
      "model_module_version": "1.5.0",
      "model_name": "ButtonModel",
      "state": {
       "button_style": "success",
       "description": "Click to predict price",
       "layout": "IPY_MODEL_ce24a14296da4de0b3ec3219c9d24ace",
       "style": "IPY_MODEL_791dcef128d84c40bf7fc7df248f87ee"
      }
     },
     "59b9ce9da68a433f9b2fc8069679a2ab": {
      "model_module": "@jupyter-widgets/controls",
      "model_module_version": "1.5.0",
      "model_name": "SliderStyleModel",
      "state": {
       "description_width": "initial"
      }
     },
     "59bd47e566a4412ea99be60360ae6cbd": {
      "model_module": "@jupyter-widgets/controls",
      "model_module_version": "1.5.0",
      "model_name": "DescriptionStyleModel",
      "state": {
       "description_width": "initial"
      }
     },
     "59cbfd5593954d4887110b2b24ac72ba": {
      "model_module": "@jupyter-widgets/base",
      "model_module_version": "1.2.0",
      "model_name": "LayoutModel",
      "state": {
       "height": "40px",
       "width": "30%"
      }
     },
     "5dcdb12e80c144d1985d1e213574db4f": {
      "model_module": "@jupyter-widgets/base",
      "model_module_version": "1.2.0",
      "model_name": "LayoutModel",
      "state": {
       "height": "40px",
       "width": "30%"
      }
     },
     "5e45719ef2df41edac3d57f48ebbaa68": {
      "model_module": "@jupyter-widgets/controls",
      "model_module_version": "1.5.0",
      "model_name": "DescriptionStyleModel",
      "state": {
       "description_width": "initial"
      }
     },
     "5ff0313b9a534600979d486d390fbe9e": {
      "model_module": "@jupyter-widgets/controls",
      "model_module_version": "1.5.0",
      "model_name": "RadioButtonsModel",
      "state": {
       "_options_labels": [
        "Entire home/apt",
        "Private room",
        "Shared room"
       ],
       "description": "Тype of apartment:",
       "index": 0,
       "layout": "IPY_MODEL_dccfc30d3a7f48fc84e99a7d6d1c1d2e",
       "style": "IPY_MODEL_174cc8b03b5543609504bf71164b5413"
      }
     },
     "629a7a8661d84f6ba6fc7200cf3f6aa6": {
      "model_module": "@jupyter-widgets/base",
      "model_module_version": "1.2.0",
      "model_name": "LayoutModel",
      "state": {}
     },
     "62c0d9b2e9e1423d92fd58725ff7cef0": {
      "model_module": "@jupyter-widgets/base",
      "model_module_version": "1.2.0",
      "model_name": "LayoutModel",
      "state": {
       "height": "40px",
       "width": "30%"
      }
     },
     "62ef5845deaf4c0a96f9e98f6de8c95a": {
      "model_module": "@jupyter-widgets/controls",
      "model_module_version": "1.5.0",
      "model_name": "ButtonStyleModel",
      "state": {}
     },
     "6482d94224ab4a17b9980869ba3d782c": {
      "model_module": "@jupyter-widgets/controls",
      "model_module_version": "1.5.0",
      "model_name": "ButtonModel",
      "state": {
       "button_style": "success",
       "description": "Price distribution in this area",
       "layout": "IPY_MODEL_21f8bb2ac0bd4cfa9422def016b7a240",
       "style": "IPY_MODEL_0e1e79f8c1c64f1183fa9810736b3eb4"
      }
     },
     "64a0d96ba2ef438791385861d9000bc9": {
      "model_module": "@jupyter-widgets/controls",
      "model_module_version": "1.5.0",
      "model_name": "IntSliderModel",
      "state": {
       "description": "Number of bathrooms",
       "layout": "IPY_MODEL_9a369df5c3544e7686581f5a250d4245",
       "max": 5,
       "min": 1,
       "style": "IPY_MODEL_f25419a739bc4e4f99c4c98f57027f07",
       "value": 1
      }
     },
     "64a0da3c4be54a18b43a37d7f32a5aa9": {
      "model_module": "@jupyter-widgets/controls",
      "model_module_version": "1.5.0",
      "model_name": "ButtonStyleModel",
      "state": {}
     },
     "64b68738cd024b8ba831e203576c3740": {
      "model_module": "@jupyter-widgets/controls",
      "model_module_version": "1.5.0",
      "model_name": "IntSliderModel",
      "state": {
       "description": "Number of guests",
       "layout": "IPY_MODEL_9e366902245641c6a8eb4769deedb3e2",
       "max": 12,
       "min": 1,
       "style": "IPY_MODEL_43cd3879e4cc48529ada7a3e4b158b3c",
       "value": 2
      }
     },
     "6702c558c002477f9bd96f5fa194ce38": {
      "model_module": "@jupyter-widgets/base",
      "model_module_version": "1.2.0",
      "model_name": "LayoutModel",
      "state": {}
     },
     "685051ce70ad4cbebdf237ad94eee880": {
      "model_module": "@jupyter-widgets/controls",
      "model_module_version": "1.5.0",
      "model_name": "ButtonModel",
      "state": {
       "button_style": "success",
       "description": "Price histogram in this area",
       "layout": "IPY_MODEL_e6da1392c5314daf9e53732b028b15d6",
       "style": "IPY_MODEL_95b840b0de154e4189433845de9ed805"
      }
     },
     "6b99371f8d5546d0bdddb65b7ef43d86": {
      "model_module": "@jupyter-widgets/base",
      "model_module_version": "1.2.0",
      "model_name": "LayoutModel",
      "state": {}
     },
     "6c188e74bfe148fdb7a64c46bcd1cb1b": {
      "model_module": "@jupyter-widgets/controls",
      "model_module_version": "1.5.0",
      "model_name": "IntSliderModel",
      "state": {
       "description": "Number of guests",
       "layout": "IPY_MODEL_cbbea102626b4d0ea26b3eca78d8e3c4",
       "max": 12,
       "min": 1,
       "style": "IPY_MODEL_6d7326fe572b454aac53ab7bd96f4888",
       "value": 2
      }
     },
     "6c6f7a5aba9b4cbaa6b2d239b9742b06": {
      "model_module": "@jupyter-widgets/controls",
      "model_module_version": "1.5.0",
      "model_name": "BoundedFloatTextModel",
      "state": {
       "description": "Predicted price",
       "layout": "IPY_MODEL_dd8e423718974b0da251209f7c3f4ffc",
       "step": null,
       "style": "IPY_MODEL_100cc00f1f8540a295ff4085b20639fb"
      }
     },
     "6cc888bb4fab4e17b0561f00d6fe9a8a": {
      "model_module": "@jupyter-widgets/controls",
      "model_module_version": "1.5.0",
      "model_name": "IntSliderModel",
      "state": {
       "description": "Number of guests",
       "layout": "IPY_MODEL_4c24728349b24d75be0d2ebf1f79ca50",
       "max": 12,
       "min": 1,
       "style": "IPY_MODEL_fd01738831c54517a873716687439aca",
       "value": 2
      }
     },
     "6d7326fe572b454aac53ab7bd96f4888": {
      "model_module": "@jupyter-widgets/controls",
      "model_module_version": "1.5.0",
      "model_name": "SliderStyleModel",
      "state": {
       "description_width": "initial"
      }
     },
     "707b07691be34a6785ea5600c7bf1d78": {
      "model_module": "@jupyter-widgets/controls",
      "model_module_version": "1.5.0",
      "model_name": "BoundedFloatTextModel",
      "state": {
       "description": "Predicted price",
       "layout": "IPY_MODEL_bde126289e9647a3bc09945c6648f364",
       "step": null,
       "style": "IPY_MODEL_59bd47e566a4412ea99be60360ae6cbd",
       "value": 60.08
      }
     },
     "70973d1c515446cb91027e84fc4138e9": {
      "model_module": "@jupyter-widgets/controls",
      "model_module_version": "1.5.0",
      "model_name": "SliderStyleModel",
      "state": {
       "description_width": "initial"
      }
     },
     "7156770a7066401584ce2fef157b9212": {
      "model_module": "@jupyter-widgets/base",
      "model_module_version": "1.2.0",
      "model_name": "LayoutModel",
      "state": {}
     },
     "7439a39426584fa2916b7ea190d93370": {
      "model_module": "@jupyter-widgets/controls",
      "model_module_version": "1.5.0",
      "model_name": "IntSliderModel",
      "state": {
       "description": "Number of bathrooms",
       "layout": "IPY_MODEL_3ee2483bc9744c9c991ecc3c7eb45d49",
       "max": 5,
       "min": 1,
       "style": "IPY_MODEL_c2125a3551e141a6af9644e83f16401a",
       "value": 1
      }
     },
     "791dcef128d84c40bf7fc7df248f87ee": {
      "model_module": "@jupyter-widgets/controls",
      "model_module_version": "1.5.0",
      "model_name": "ButtonStyleModel",
      "state": {}
     },
     "79b84c460c9d4f12a3afaf0ed1ba1386": {
      "model_module": "@jupyter-widgets/base",
      "model_module_version": "1.2.0",
      "model_name": "LayoutModel",
      "state": {}
     },
     "7b9729f963da4bc18143a584fb4fc2f1": {
      "model_module": "@jupyter-widgets/controls",
      "model_module_version": "1.5.0",
      "model_name": "SliderStyleModel",
      "state": {
       "description_width": "initial"
      }
     },
     "7d5f68c8004842ecbac67a3a8b4abbe1": {
      "model_module": "@jupyter-widgets/controls",
      "model_module_version": "1.5.0",
      "model_name": "DropdownModel",
      "state": {
       "_options_labels": [
        "Richmond upon Thames",
        "Camden",
        "Lewisham",
        "Kensington and Chelsea",
        "Westminster",
        "Hammersmith and Fulham",
        "Lambeth",
        "Southwark",
        "Haringey",
        "Wandsworth",
        "Tower Hamlets",
        "Hackney",
        "Barnet",
        "Merton",
        "Islington",
        "Hounslow",
        "Newham",
        "Brent",
        "Barking and Dagenham",
        "Ealing",
        "Kingston upon Thames",
        "Sutton",
        "Enfield",
        "Bexley",
        "Hillingdon",
        "Greenwich",
        "Waltham Forest",
        "Croydon",
        "Redbridge",
        "City of London",
        "Bromley",
        "Harrow",
        "Havering"
       ],
       "description": "Area:",
       "index": 0,
       "layout": "IPY_MODEL_82208b3a86664b2f99ab7b1217d09834",
       "style": "IPY_MODEL_943c023139444395b4ec8c0518d6ae65"
      }
     },
     "805561268da149acb18d1d69fcc947e9": {
      "model_module": "@jupyter-widgets/controls",
      "model_module_version": "1.5.0",
      "model_name": "DropdownModel",
      "state": {
       "_options_labels": [
        "Richmond upon Thames",
        "Camden",
        "Lewisham",
        "Kensington and Chelsea",
        "Westminster",
        "Hammersmith and Fulham",
        "Lambeth",
        "Southwark",
        "Haringey",
        "Wandsworth",
        "Tower Hamlets",
        "Hackney",
        "Barnet",
        "Merton",
        "Islington",
        "Hounslow",
        "Newham",
        "Brent",
        "Barking and Dagenham",
        "Ealing",
        "Kingston upon Thames",
        "Sutton",
        "Enfield",
        "Bexley",
        "Hillingdon",
        "Greenwich",
        "Waltham Forest",
        "Croydon",
        "Redbridge",
        "City of London",
        "Bromley",
        "Harrow",
        "Havering"
       ],
       "description": "Area:",
       "index": 0,
       "layout": "IPY_MODEL_eff7c028d2004a8fb541a7b58bd9c80c",
       "style": "IPY_MODEL_b165d83128244050b6de7e140741a613"
      }
     },
     "81ef36031ec54a0abfcfa335b8833d04": {
      "model_module": "@jupyter-widgets/base",
      "model_module_version": "1.2.0",
      "model_name": "LayoutModel",
      "state": {}
     },
     "82208b3a86664b2f99ab7b1217d09834": {
      "model_module": "@jupyter-widgets/base",
      "model_module_version": "1.2.0",
      "model_name": "LayoutModel",
      "state": {}
     },
     "82649b9b206c4e5e9605c96b7ad6af8b": {
      "model_module": "@jupyter-widgets/base",
      "model_module_version": "1.2.0",
      "model_name": "LayoutModel",
      "state": {}
     },
     "8292afc8c9024a56950811569605fcda": {
      "model_module": "@jupyter-widgets/controls",
      "model_module_version": "1.5.0",
      "model_name": "RadioButtonsModel",
      "state": {
       "_options_labels": [
        "Entire home/apt",
        "Private room",
        "Shared room"
       ],
       "description": "Тype of apartment:",
       "index": 0,
       "layout": "IPY_MODEL_efbff70631a345fb9524c33d714577d7",
       "style": "IPY_MODEL_e9e2a76b3747446bb4f1b6674167795f"
      }
     },
     "84e21164c6804598b78a6b122d9e6a33": {
      "model_module": "@jupyter-widgets/controls",
      "model_module_version": "1.5.0",
      "model_name": "BoundedFloatTextModel",
      "state": {
       "description": "Predicted price",
       "layout": "IPY_MODEL_ab6d2e7fb39c4fa4896abeaf0ab179df",
       "step": null,
       "style": "IPY_MODEL_3b0c6dfb4ae94ef88ea6ea4134cc2a47"
      }
     },
     "85f6501b965b4ccfa2470137ca608c94": {
      "model_module": "@jupyter-widgets/base",
      "model_module_version": "1.2.0",
      "model_name": "LayoutModel",
      "state": {}
     },
     "869cbb7bb3474c3a965c666d69e24568": {
      "model_module": "@jupyter-widgets/controls",
      "model_module_version": "1.5.0",
      "model_name": "IntSliderModel",
      "state": {
       "description": "Number of bedrooms",
       "layout": "IPY_MODEL_8e5c2976b21148ea8a16cc81d7685140",
       "max": 5,
       "min": 1,
       "style": "IPY_MODEL_70973d1c515446cb91027e84fc4138e9",
       "value": 1
      }
     },
     "878d09cee7bb4d2fa177de68c005bea8": {
      "model_module": "@jupyter-widgets/base",
      "model_module_version": "1.2.0",
      "model_name": "LayoutModel",
      "state": {}
     },
     "8ca235f2119b45ddaaefad586a4fb4ac": {
      "model_module": "@jupyter-widgets/controls",
      "model_module_version": "1.5.0",
      "model_name": "IntSliderModel",
      "state": {
       "description": "Number of bathrooms",
       "layout": "IPY_MODEL_1f3ca2063f344d3fa3b134f9241c0d52",
       "max": 5,
       "min": 1,
       "style": "IPY_MODEL_4262646f45c94aff96bbf15dda65c1c6",
       "value": 1
      }
     },
     "8d0f77b8c05b46119362efa0114c2a3c": {
      "model_module": "@jupyter-widgets/controls",
      "model_module_version": "1.5.0",
      "model_name": "IntSliderModel",
      "state": {
       "description": "Number of bathrooms",
       "layout": "IPY_MODEL_94d896f5b2f9414ab84a2a59c781812c",
       "max": 5,
       "min": 1,
       "style": "IPY_MODEL_38a3e82cce824c27b4794f995aa0583d",
       "value": 1
      }
     },
     "8e5c2976b21148ea8a16cc81d7685140": {
      "model_module": "@jupyter-widgets/base",
      "model_module_version": "1.2.0",
      "model_name": "LayoutModel",
      "state": {}
     },
     "8efe83bf1633418aa59b2c026934b9a6": {
      "model_module": "@jupyter-widgets/base",
      "model_module_version": "1.2.0",
      "model_name": "LayoutModel",
      "state": {}
     },
     "91205b02441e47f5911259778fbb4606": {
      "model_module": "@jupyter-widgets/controls",
      "model_module_version": "1.5.0",
      "model_name": "IntSliderModel",
      "state": {
       "description": "Number of guests",
       "layout": "IPY_MODEL_f73cf9b3971046f3bd6e03349f39b4e2",
       "max": 12,
       "min": 1,
       "style": "IPY_MODEL_a4d2b219bcbe46169a9402ad95980241",
       "value": 2
      }
     },
     "9326a806381c491e91a9f8876c5d9a03": {
      "model_module": "@jupyter-widgets/controls",
      "model_module_version": "1.5.0",
      "model_name": "RadioButtonsModel",
      "state": {
       "_options_labels": [
        "Entire home/apt",
        "Private room",
        "Shared room"
       ],
       "description": "Тype of apartment:",
       "index": 0,
       "layout": "IPY_MODEL_79b84c460c9d4f12a3afaf0ed1ba1386",
       "style": "IPY_MODEL_f1e512ffd44b44bab60b17e4e3cebb7b"
      }
     },
     "943c023139444395b4ec8c0518d6ae65": {
      "model_module": "@jupyter-widgets/controls",
      "model_module_version": "1.5.0",
      "model_name": "DescriptionStyleModel",
      "state": {
       "description_width": ""
      }
     },
     "94d896f5b2f9414ab84a2a59c781812c": {
      "model_module": "@jupyter-widgets/base",
      "model_module_version": "1.2.0",
      "model_name": "LayoutModel",
      "state": {}
     },
     "956cc05cf233466f897f0fd95aa6c315": {
      "model_module": "@jupyter-widgets/base",
      "model_module_version": "1.2.0",
      "model_name": "LayoutModel",
      "state": {}
     },
     "95b840b0de154e4189433845de9ed805": {
      "model_module": "@jupyter-widgets/controls",
      "model_module_version": "1.5.0",
      "model_name": "ButtonStyleModel",
      "state": {}
     },
     "974e72df1ceb4eb88afc91d74a6e1857": {
      "model_module": "@jupyter-widgets/controls",
      "model_module_version": "1.5.0",
      "model_name": "VBoxModel",
      "state": {
       "children": [
        "IPY_MODEL_041a68307f254b39925c76aa62779166",
        "IPY_MODEL_4444abf5d9c64f8fbc8e89801c76c87a",
        "IPY_MODEL_84e21164c6804598b78a6b122d9e6a33",
        "IPY_MODEL_5269c0b8fcda44749adc669d6292d5c5",
        "IPY_MODEL_e66290477b244806b251927155e2467e"
       ],
       "layout": "IPY_MODEL_362ac73f727a4c6ab493efb06b4254fb"
      }
     },
     "97f5d9d664914a0a82561b36adf8d44d": {
      "model_module": "@jupyter-widgets/controls",
      "model_module_version": "1.5.0",
      "model_name": "ButtonStyleModel",
      "state": {}
     },
     "9929b4ed38714781ae60bf88f33b9bb0": {
      "model_module": "@jupyter-widgets/controls",
      "model_module_version": "1.5.0",
      "model_name": "DropdownModel",
      "state": {
       "_options_labels": [
        "Richmond upon Thames",
        "Camden",
        "Lewisham",
        "Kensington and Chelsea",
        "Westminster",
        "Hammersmith and Fulham",
        "Lambeth",
        "Southwark",
        "Haringey",
        "Wandsworth",
        "Tower Hamlets",
        "Hackney",
        "Barnet",
        "Merton",
        "Islington",
        "Hounslow",
        "Newham",
        "Brent",
        "Barking and Dagenham",
        "Ealing",
        "Kingston upon Thames",
        "Sutton",
        "Enfield",
        "Bexley",
        "Hillingdon",
        "Greenwich",
        "Waltham Forest",
        "Croydon",
        "Redbridge",
        "City of London",
        "Bromley",
        "Harrow",
        "Havering"
       ],
       "description": "Area:",
       "index": 0,
       "layout": "IPY_MODEL_b1f032b736e24f8483d68caeb5aa442f",
       "style": "IPY_MODEL_b4aef18ee1504368824c56d779a8c3f4"
      }
     },
     "9a002edd26df47a3865279adff6e6011": {
      "model_module": "@jupyter-widgets/controls",
      "model_module_version": "1.5.0",
      "model_name": "SliderStyleModel",
      "state": {
       "description_width": "initial"
      }
     },
     "9a369df5c3544e7686581f5a250d4245": {
      "model_module": "@jupyter-widgets/base",
      "model_module_version": "1.2.0",
      "model_name": "LayoutModel",
      "state": {}
     },
     "9de0fc80195540288d8d392709997a44": {
      "model_module": "@jupyter-widgets/controls",
      "model_module_version": "1.5.0",
      "model_name": "ButtonStyleModel",
      "state": {}
     },
     "9e366902245641c6a8eb4769deedb3e2": {
      "model_module": "@jupyter-widgets/base",
      "model_module_version": "1.2.0",
      "model_name": "LayoutModel",
      "state": {}
     },
     "9f4c8308dafc4201bd04b7719a2b7517": {
      "model_module": "@jupyter-widgets/controls",
      "model_module_version": "1.5.0",
      "model_name": "BoundedFloatTextModel",
      "state": {
       "description": "Predicted price",
       "layout": "IPY_MODEL_6b99371f8d5546d0bdddb65b7ef43d86",
       "step": null,
       "style": "IPY_MODEL_155dc5164c874910ae2e2ee4035f0da3"
      }
     },
     "a31f2bfd99aa442eb630b17b922e461f": {
      "model_module": "@jupyter-widgets/controls",
      "model_module_version": "1.5.0",
      "model_name": "SliderStyleModel",
      "state": {
       "description_width": "initial"
      }
     },
     "a34ed604bcc44953ba5627959a8bd01c": {
      "model_module": "@jupyter-widgets/base",
      "model_module_version": "1.2.0",
      "model_name": "LayoutModel",
      "state": {}
     },
     "a4d2b219bcbe46169a9402ad95980241": {
      "model_module": "@jupyter-widgets/controls",
      "model_module_version": "1.5.0",
      "model_name": "SliderStyleModel",
      "state": {
       "description_width": "initial"
      }
     },
     "a6337792fd1645e9a0cab0a321e4dd6a": {
      "model_module": "@jupyter-widgets/controls",
      "model_module_version": "1.5.0",
      "model_name": "ButtonStyleModel",
      "state": {}
     },
     "a7cdeb8297c34afbb565cd9da084e87a": {
      "model_module": "@jupyter-widgets/controls",
      "model_module_version": "1.5.0",
      "model_name": "ButtonModel",
      "state": {
       "button_style": "success",
       "description": "Click to predict price",
       "layout": "IPY_MODEL_7156770a7066401584ce2fef157b9212",
       "style": "IPY_MODEL_17b601f01d1e4428b106664324703da7"
      }
     },
     "a8b4f56e3fab4386bcc5a0ab0c5d0d3e": {
      "model_module": "@jupyter-widgets/controls",
      "model_module_version": "1.5.0",
      "model_name": "SliderStyleModel",
      "state": {
       "description_width": "initial"
      }
     },
     "a8bff946396546feb7491603d940d0bd": {
      "model_module": "@jupyter-widgets/controls",
      "model_module_version": "1.5.0",
      "model_name": "ButtonModel",
      "state": {
       "button_style": "success",
       "description": "Price distribution in this area",
       "layout": "IPY_MODEL_c06d98848d154edaba8e958a5618b6b5",
       "style": "IPY_MODEL_1f19ea91f9f143f09b7ca47004598024"
      }
     },
     "a8ca238670794b29b69dc54fe4388184": {
      "model_module": "@jupyter-widgets/base",
      "model_module_version": "1.2.0",
      "model_name": "LayoutModel",
      "state": {
       "height": "40px",
       "width": "30%"
      }
     },
     "ab6d2e7fb39c4fa4896abeaf0ab179df": {
      "model_module": "@jupyter-widgets/base",
      "model_module_version": "1.2.0",
      "model_name": "LayoutModel",
      "state": {}
     },
     "af8c7a93414b455c8ae5a44182e175f5": {
      "model_module": "@jupyter-widgets/controls",
      "model_module_version": "1.5.0",
      "model_name": "IntSliderModel",
      "state": {
       "description": "Number of bedrooms",
       "layout": "IPY_MODEL_2c219b8c9bf649a4b4c9a3e7f7ef4b40",
       "max": 5,
       "min": 1,
       "style": "IPY_MODEL_5029cfb6c63c49b8b06d8cef494e41a3",
       "value": 1
      }
     },
     "b165d83128244050b6de7e140741a613": {
      "model_module": "@jupyter-widgets/controls",
      "model_module_version": "1.5.0",
      "model_name": "DescriptionStyleModel",
      "state": {
       "description_width": ""
      }
     },
     "b1f032b736e24f8483d68caeb5aa442f": {
      "model_module": "@jupyter-widgets/base",
      "model_module_version": "1.2.0",
      "model_name": "LayoutModel",
      "state": {}
     },
     "b2e0e00862aa4cd88f1e97bf2a2ec2f0": {
      "model_module": "@jupyter-widgets/controls",
      "model_module_version": "1.5.0",
      "model_name": "DescriptionStyleModel",
      "state": {
       "description_width": ""
      }
     },
     "b4aef18ee1504368824c56d779a8c3f4": {
      "model_module": "@jupyter-widgets/controls",
      "model_module_version": "1.5.0",
      "model_name": "DescriptionStyleModel",
      "state": {
       "description_width": ""
      }
     },
     "b6707da05b8348399ffb7ceb52963885": {
      "model_module": "@jupyter-widgets/controls",
      "model_module_version": "1.5.0",
      "model_name": "DescriptionStyleModel",
      "state": {
       "description_width": "initial"
      }
     },
     "b72ac46009ee49419c0981a5e6a5290a": {
      "model_module": "@jupyter-widgets/base",
      "model_module_version": "1.2.0",
      "model_name": "LayoutModel",
      "state": {}
     },
     "b7b2407aede448ea9159b4f3487ec8e3": {
      "model_module": "@jupyter-widgets/base",
      "model_module_version": "1.2.0",
      "model_name": "LayoutModel",
      "state": {}
     },
     "b9d459a187e34af4bad1a7eeda51d081": {
      "model_module": "@jupyter-widgets/base",
      "model_module_version": "1.2.0",
      "model_name": "LayoutModel",
      "state": {
       "height": "40px",
       "width": "30%"
      }
     },
     "ba694f1bcd144027b2fce8504d33de79": {
      "model_module": "@jupyter-widgets/controls",
      "model_module_version": "1.5.0",
      "model_name": "ButtonModel",
      "state": {
       "button_style": "success",
       "description": "Price distribution in this area",
       "layout": "IPY_MODEL_c60a30f55b3a4329b2906567f0047546",
       "style": "IPY_MODEL_64a0da3c4be54a18b43a37d7f32a5aa9"
      }
     },
     "bb1641bf0046421aa831b6b1ac57c189": {
      "model_module": "@jupyter-widgets/base",
      "model_module_version": "1.2.0",
      "model_name": "LayoutModel",
      "state": {}
     },
     "bde126289e9647a3bc09945c6648f364": {
      "model_module": "@jupyter-widgets/base",
      "model_module_version": "1.2.0",
      "model_name": "LayoutModel",
      "state": {}
     },
     "be3440422c8b454790f20fc1210dd920": {
      "model_module": "@jupyter-widgets/controls",
      "model_module_version": "1.5.0",
      "model_name": "IntSliderModel",
      "state": {
       "description": "Number of bathrooms",
       "layout": "IPY_MODEL_c65c99e1e1a14adc8ee88c36cfe29e23",
       "max": 5,
       "min": 1,
       "style": "IPY_MODEL_59b9ce9da68a433f9b2fc8069679a2ab",
       "value": 1
      }
     },
     "bee8c1c855e2402f8e7db359119a42ff": {
      "model_module": "@jupyter-widgets/controls",
      "model_module_version": "1.5.0",
      "model_name": "BoundedFloatTextModel",
      "state": {
       "description": "Predicted price",
       "layout": "IPY_MODEL_2c8eabcbf0524bc2a0358971ad99ac29",
       "step": null,
       "style": "IPY_MODEL_17abca2a47ca4531b05ddde76c26dd6f"
      }
     },
     "c06d98848d154edaba8e958a5618b6b5": {
      "model_module": "@jupyter-widgets/base",
      "model_module_version": "1.2.0",
      "model_name": "LayoutModel",
      "state": {
       "height": "40px",
       "width": "30%"
      }
     },
     "c0d398899db84d4ab168b5bb970ecc7f": {
      "model_module": "@jupyter-widgets/controls",
      "model_module_version": "1.5.0",
      "model_name": "IntSliderModel",
      "state": {
       "description": "Number of bedrooms",
       "layout": "IPY_MODEL_82649b9b206c4e5e9605c96b7ad6af8b",
       "max": 5,
       "min": 1,
       "style": "IPY_MODEL_9a002edd26df47a3865279adff6e6011",
       "value": 1
      }
     },
     "c2125a3551e141a6af9644e83f16401a": {
      "model_module": "@jupyter-widgets/controls",
      "model_module_version": "1.5.0",
      "model_name": "SliderStyleModel",
      "state": {
       "description_width": "initial"
      }
     },
     "c2d52143ebed4bf9bf666ace3df2ffe6": {
      "model_module": "@jupyter-widgets/base",
      "model_module_version": "1.2.0",
      "model_name": "LayoutModel",
      "state": {}
     },
     "c35dc200e026467bb629c93f67eb1a75": {
      "model_module": "@jupyter-widgets/controls",
      "model_module_version": "1.5.0",
      "model_name": "RadioButtonsModel",
      "state": {
       "_options_labels": [
        "Entire home/apt",
        "Private room",
        "Shared room"
       ],
       "description": "Тype of apartment:",
       "index": 0,
       "layout": "IPY_MODEL_29a9680124814248b11cdf3312574f45",
       "style": "IPY_MODEL_1637658615c2404c80a628e073bf829f"
      }
     },
     "c4ba593ecb8b47bb82f908a0e8f063a9": {
      "model_module": "@jupyter-widgets/base",
      "model_module_version": "1.2.0",
      "model_name": "LayoutModel",
      "state": {}
     },
     "c60a30f55b3a4329b2906567f0047546": {
      "model_module": "@jupyter-widgets/base",
      "model_module_version": "1.2.0",
      "model_name": "LayoutModel",
      "state": {
       "height": "40px",
       "width": "30%"
      }
     },
     "c65c99e1e1a14adc8ee88c36cfe29e23": {
      "model_module": "@jupyter-widgets/base",
      "model_module_version": "1.2.0",
      "model_name": "LayoutModel",
      "state": {}
     },
     "cbbea102626b4d0ea26b3eca78d8e3c4": {
      "model_module": "@jupyter-widgets/base",
      "model_module_version": "1.2.0",
      "model_name": "LayoutModel",
      "state": {}
     },
     "cc951cb64cfc4f77aee910153a9ed881": {
      "model_module": "@jupyter-widgets/controls",
      "model_module_version": "1.5.0",
      "model_name": "HBoxModel",
      "state": {
       "children": [
        "IPY_MODEL_37835b8b9c6145009ecfa4f98793b5c3",
        "IPY_MODEL_974e72df1ceb4eb88afc91d74a6e1857"
       ],
       "layout": "IPY_MODEL_629a7a8661d84f6ba6fc7200cf3f6aa6"
      }
     },
     "ce24a14296da4de0b3ec3219c9d24ace": {
      "model_module": "@jupyter-widgets/base",
      "model_module_version": "1.2.0",
      "model_name": "LayoutModel",
      "state": {}
     },
     "cec739b7086c469884fd6ceed40dcb7e": {
      "model_module": "@jupyter-widgets/controls",
      "model_module_version": "1.5.0",
      "model_name": "RadioButtonsModel",
      "state": {
       "_options_labels": [
        "Entire home/apt",
        "Private room",
        "Shared room"
       ],
       "description": "Тype of apartment:",
       "index": 0,
       "layout": "IPY_MODEL_0e7600cd645b4fd889525f79d99edfa0",
       "style": "IPY_MODEL_28cde9c615964f42b9895ff36916646e"
      }
     },
     "d56671d12d6747a7a7dcc6fc7136091d": {
      "model_module": "@jupyter-widgets/base",
      "model_module_version": "1.2.0",
      "model_name": "LayoutModel",
      "state": {
       "height": "40px",
       "width": "30%"
      }
     },
     "d8bd583ab2f946aea6500b3a427879a4": {
      "model_module": "@jupyter-widgets/controls",
      "model_module_version": "1.5.0",
      "model_name": "ButtonModel",
      "state": {
       "button_style": "success",
       "description": "Price histogram in this area",
       "layout": "IPY_MODEL_a8ca238670794b29b69dc54fe4388184",
       "style": "IPY_MODEL_12263d127d9043ac9fc0d6517002ae24"
      }
     },
     "d9eb93a12fa043dc8ea94e77f4833ef9": {
      "model_module": "@jupyter-widgets/controls",
      "model_module_version": "1.5.0",
      "model_name": "SliderStyleModel",
      "state": {
       "description_width": "initial"
      }
     },
     "dccfc30d3a7f48fc84e99a7d6d1c1d2e": {
      "model_module": "@jupyter-widgets/base",
      "model_module_version": "1.2.0",
      "model_name": "LayoutModel",
      "state": {}
     },
     "dd8e423718974b0da251209f7c3f4ffc": {
      "model_module": "@jupyter-widgets/base",
      "model_module_version": "1.2.0",
      "model_name": "LayoutModel",
      "state": {}
     },
     "de4cdd6be5f74fac9e00a1023547f39a": {
      "model_module": "@jupyter-widgets/controls",
      "model_module_version": "1.5.0",
      "model_name": "IntSliderModel",
      "state": {
       "description": "Number of bedrooms",
       "layout": "IPY_MODEL_878d09cee7bb4d2fa177de68c005bea8",
       "max": 5,
       "min": 1,
       "style": "IPY_MODEL_24e18876e1ef4bd4bf0e5747be273a62",
       "value": 1
      }
     },
     "de84178677b5416589d000aefb452aa0": {
      "model_module": "@jupyter-widgets/controls",
      "model_module_version": "1.5.0",
      "model_name": "ButtonModel",
      "state": {
       "button_style": "success",
       "description": "Click to predict price",
       "layout": "IPY_MODEL_81ef36031ec54a0abfcfa335b8833d04",
       "style": "IPY_MODEL_1688eea054484abfaa8a1da215a9ad17"
      }
     },
     "df9ac55624e643dbbaad905134988abf": {
      "model_module": "@jupyter-widgets/base",
      "model_module_version": "1.2.0",
      "model_name": "LayoutModel",
      "state": {
       "height": "40px",
       "width": "30%"
      }
     },
     "e01b766aa95c4849a4a813ec001ae0c1": {
      "model_module": "@jupyter-widgets/base",
      "model_module_version": "1.2.0",
      "model_name": "LayoutModel",
      "state": {}
     },
     "e66290477b244806b251927155e2467e": {
      "model_module": "@jupyter-widgets/controls",
      "model_module_version": "1.5.0",
      "model_name": "ButtonModel",
      "state": {
       "button_style": "success",
       "description": "Price histogram in this area",
       "layout": "IPY_MODEL_b9d459a187e34af4bad1a7eeda51d081",
       "style": "IPY_MODEL_517271d890ba4a008f3b6fc290974c3a"
      }
     },
     "e6da1392c5314daf9e53732b028b15d6": {
      "model_module": "@jupyter-widgets/base",
      "model_module_version": "1.2.0",
      "model_name": "LayoutModel",
      "state": {
       "height": "40px",
       "width": "30%"
      }
     },
     "e8735c92b230409c8dd9b650b12f8fd6": {
      "model_module": "@jupyter-widgets/base",
      "model_module_version": "1.2.0",
      "model_name": "LayoutModel",
      "state": {
       "height": "40px",
       "width": "30%"
      }
     },
     "e87f7f7a457a44b0ba5a27458e9907f0": {
      "model_module": "@jupyter-widgets/controls",
      "model_module_version": "1.5.0",
      "model_name": "SliderStyleModel",
      "state": {
       "description_width": "initial"
      }
     },
     "e8dfe6c6908d4c458f4d26b7bbb12e32": {
      "model_module": "@jupyter-widgets/controls",
      "model_module_version": "1.5.0",
      "model_name": "ButtonStyleModel",
      "state": {}
     },
     "e9e2a76b3747446bb4f1b6674167795f": {
      "model_module": "@jupyter-widgets/controls",
      "model_module_version": "1.5.0",
      "model_name": "DescriptionStyleModel",
      "state": {
       "description_width": "initial"
      }
     },
     "ef3811e0e3634939a4262758f5e7a26c": {
      "model_module": "@jupyter-widgets/base",
      "model_module_version": "1.2.0",
      "model_name": "LayoutModel",
      "state": {}
     },
     "efbff70631a345fb9524c33d714577d7": {
      "model_module": "@jupyter-widgets/base",
      "model_module_version": "1.2.0",
      "model_name": "LayoutModel",
      "state": {}
     },
     "eff7c028d2004a8fb541a7b58bd9c80c": {
      "model_module": "@jupyter-widgets/base",
      "model_module_version": "1.2.0",
      "model_name": "LayoutModel",
      "state": {}
     },
     "f08ff7b1353749829ee46782d997e3bb": {
      "model_module": "@jupyter-widgets/controls",
      "model_module_version": "1.5.0",
      "model_name": "ButtonStyleModel",
      "state": {}
     },
     "f1e512ffd44b44bab60b17e4e3cebb7b": {
      "model_module": "@jupyter-widgets/controls",
      "model_module_version": "1.5.0",
      "model_name": "DescriptionStyleModel",
      "state": {
       "description_width": "initial"
      }
     },
     "f25419a739bc4e4f99c4c98f57027f07": {
      "model_module": "@jupyter-widgets/controls",
      "model_module_version": "1.5.0",
      "model_name": "SliderStyleModel",
      "state": {
       "description_width": "initial"
      }
     },
     "f6c43f5dbe914790828873b2370b1a54": {
      "model_module": "@jupyter-widgets/controls",
      "model_module_version": "1.5.0",
      "model_name": "DescriptionStyleModel",
      "state": {
       "description_width": "initial"
      }
     },
     "f73cf9b3971046f3bd6e03349f39b4e2": {
      "model_module": "@jupyter-widgets/base",
      "model_module_version": "1.2.0",
      "model_name": "LayoutModel",
      "state": {}
     },
     "f7642b7086014fac92316607f807b11e": {
      "model_module": "@jupyter-widgets/controls",
      "model_module_version": "1.5.0",
      "model_name": "ButtonStyleModel",
      "state": {}
     },
     "f7e312cd466f44db87a4ebf6606ce0bb": {
      "model_module": "@jupyter-widgets/base",
      "model_module_version": "1.2.0",
      "model_name": "LayoutModel",
      "state": {}
     },
     "fa33668f141f45a09460cab0b1e78fe6": {
      "model_module": "@jupyter-widgets/controls",
      "model_module_version": "1.5.0",
      "model_name": "DropdownModel",
      "state": {
       "_options_labels": [
        "Richmond upon Thames",
        "Camden",
        "Lewisham",
        "Kensington and Chelsea",
        "Westminster",
        "Hammersmith and Fulham",
        "Lambeth",
        "Southwark",
        "Haringey",
        "Wandsworth",
        "Tower Hamlets",
        "Hackney",
        "Barnet",
        "Merton",
        "Islington",
        "Hounslow",
        "Newham",
        "Brent",
        "Barking and Dagenham",
        "Ealing",
        "Kingston upon Thames",
        "Sutton",
        "Enfield",
        "Bexley",
        "Hillingdon",
        "Greenwich",
        "Waltham Forest",
        "Croydon",
        "Redbridge",
        "City of London",
        "Bromley",
        "Harrow",
        "Havering"
       ],
       "description": "Area:",
       "index": 0,
       "layout": "IPY_MODEL_a34ed604bcc44953ba5627959a8bd01c",
       "style": "IPY_MODEL_045007c632084627ad440d6a11ac3499"
      }
     },
     "fb829eafd6704974ac649feec8d73a39": {
      "model_module": "@jupyter-widgets/controls",
      "model_module_version": "1.5.0",
      "model_name": "ButtonModel",
      "state": {
       "button_style": "success",
       "description": "Price histogram in this area",
       "layout": "IPY_MODEL_e8735c92b230409c8dd9b650b12f8fd6",
       "style": "IPY_MODEL_62ef5845deaf4c0a96f9e98f6de8c95a"
      }
     },
     "fd01738831c54517a873716687439aca": {
      "model_module": "@jupyter-widgets/controls",
      "model_module_version": "1.5.0",
      "model_name": "SliderStyleModel",
      "state": {
       "description_width": "initial"
      }
     },
     "fe04c19393a54b119a3006c2612624e4": {
      "model_module": "@jupyter-widgets/base",
      "model_module_version": "1.2.0",
      "model_name": "LayoutModel",
      "state": {}
     }
    },
    "version_major": 2,
    "version_minor": 0
   }
  }
 },
 "nbformat": 4,
 "nbformat_minor": 4
}
